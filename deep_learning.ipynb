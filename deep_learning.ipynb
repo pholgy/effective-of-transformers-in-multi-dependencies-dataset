{
  "cells": [
    {
      "cell_type": "code",
      "execution_count": 1,
      "metadata": {
        "colab": {
          "base_uri": "https://localhost:8080/"
        },
        "id": "B1PPdsdo3tKC",
        "outputId": "69415aa3-530a-474d-bf9f-88b2e0921bf1"
      },
      "outputs": [
        {
          "name": "stdout",
          "output_type": "stream",
          "text": [
            "Requirement already satisfied: pythainlp in /Users/yo/miniforge3/envs/mlp/lib/python3.9/site-packages (3.0.8)\n",
            "Requirement already satisfied: requests>=2.22.0 in /Users/yo/miniforge3/envs/mlp/lib/python3.9/site-packages (from pythainlp) (2.27.1)\n",
            "Requirement already satisfied: tinydb>=3.0 in /Users/yo/miniforge3/envs/mlp/lib/python3.9/site-packages (from pythainlp) (4.7.0)\n",
            "Requirement already satisfied: idna<4,>=2.5 in /Users/yo/miniforge3/envs/mlp/lib/python3.9/site-packages (from requests>=2.22.0->pythainlp) (3.3)\n",
            "Requirement already satisfied: certifi>=2017.4.17 in /Users/yo/miniforge3/envs/mlp/lib/python3.9/site-packages (from requests>=2.22.0->pythainlp) (2021.10.8)\n",
            "Requirement already satisfied: charset-normalizer~=2.0.0 in /Users/yo/miniforge3/envs/mlp/lib/python3.9/site-packages (from requests>=2.22.0->pythainlp) (2.0.12)\n",
            "Requirement already satisfied: urllib3<1.27,>=1.21.1 in /Users/yo/miniforge3/envs/mlp/lib/python3.9/site-packages (from requests>=2.22.0->pythainlp) (1.26.14)\n",
            "\n",
            "\u001b[1m[\u001b[0m\u001b[34;49mnotice\u001b[0m\u001b[1;39;49m]\u001b[0m\u001b[39;49m A new release of pip is available: \u001b[0m\u001b[31;49m23.0\u001b[0m\u001b[39;49m -> \u001b[0m\u001b[32;49m23.0.1\u001b[0m\n",
            "\u001b[1m[\u001b[0m\u001b[34;49mnotice\u001b[0m\u001b[1;39;49m]\u001b[0m\u001b[39;49m To update, run: \u001b[0m\u001b[32;49mpip install --upgrade pip\u001b[0m\n"
          ]
        }
      ],
      "source": [
        "!pip install pythainlp"
      ]
    },
    {
      "cell_type": "code",
      "execution_count": 2,
      "metadata": {
        "id": "yAYxEv4A3gBT"
      },
      "outputs": [],
      "source": [
        "import pandas as pd\n",
        "import numpy as np\n",
        "import tensorflow as tf\n",
        "import pythainlp\n",
        "\n",
        "from sklearn.model_selection import train_test_split\n",
        "from tensorflow.keras.preprocessing.sequence import pad_sequences\n",
        "from tensorflow.keras.layers import Dense, Embedding, LSTM, Conv1D, MaxPooling1D, GlobalMaxPooling1D, Dropout\n",
        "from tensorflow.keras.models import Sequential\n",
        "\n",
        "from tensorflow.keras.optimizers import Adam\n",
        "\n",
        "from tensorflow.keras.utils import to_categorical\n",
        "from tensorflow.keras.preprocessing.text import Tokenizer\n",
        "from sklearn.metrics import classification_report"
      ]
    },
    {
      "cell_type": "code",
      "execution_count": 3,
      "metadata": {
        "id": "pHIUcNuP3gBU"
      },
      "outputs": [],
      "source": [
        "data = pd.read_excel('preprocessed_course_review.xlsx')"
      ]
    },
    {
      "cell_type": "code",
      "execution_count": 4,
      "metadata": {
        "colab": {
          "base_uri": "https://localhost:8080/",
          "height": 206
        },
        "id": "pkXFn6tW3gBU",
        "outputId": "b6215648-be2f-466f-806b-b5204ec61e72"
      },
      "outputs": [
        {
          "data": {
            "text/html": [
              "<div>\n",
              "<style scoped>\n",
              "    .dataframe tbody tr th:only-of-type {\n",
              "        vertical-align: middle;\n",
              "    }\n",
              "\n",
              "    .dataframe tbody tr th {\n",
              "        vertical-align: top;\n",
              "    }\n",
              "\n",
              "    .dataframe thead th {\n",
              "        text-align: right;\n",
              "    }\n",
              "</style>\n",
              "<table border=\"1\" class=\"dataframe\">\n",
              "  <thead>\n",
              "    <tr style=\"text-align: right;\">\n",
              "      <th></th>\n",
              "      <th>Unnamed: 0</th>\n",
              "      <th>text</th>\n",
              "      <th>score</th>\n",
              "      <th>course_name</th>\n",
              "      <th>score_encoded</th>\n",
              "      <th>Label_Enc</th>\n",
              "    </tr>\n",
              "  </thead>\n",
              "  <tbody>\n",
              "    <tr>\n",
              "      <th>0</th>\n",
              "      <td>0</td>\n",
              "      <td>โค้ชเอ๋แน่นมากทั้ง MM Mind Set และ Method เทีย...</td>\n",
              "      <td>5</td>\n",
              "      <td>ทำกำไรในตลาดทองอย่างยั่งยืนด้วยเทคนิค 3M</td>\n",
              "      <td>Good</td>\n",
              "      <td>2</td>\n",
              "    </tr>\n",
              "    <tr>\n",
              "      <th>1</th>\n",
              "      <td>1</td>\n",
              "      <td>เยี่ยมเลยครับ คุณเอ๋ทำ tfex ด้วยนะครับ รอนะครับ</td>\n",
              "      <td>5</td>\n",
              "      <td>ทำกำไรในตลาดทองอย่างยั่งยืนด้วยเทคนิค 3M</td>\n",
              "      <td>Good</td>\n",
              "      <td>2</td>\n",
              "    </tr>\n",
              "    <tr>\n",
              "      <th>2</th>\n",
              "      <td>2</td>\n",
              "      <td>พี่เอ๋ ใช้เทคนิคง่ายไม่ซับซ้อน ดีครับ</td>\n",
              "      <td>5</td>\n",
              "      <td>ทำกำไรในตลาดทองอย่างยั่งยืนด้วยเทคนิค 3M</td>\n",
              "      <td>Good</td>\n",
              "      <td>2</td>\n",
              "    </tr>\n",
              "    <tr>\n",
              "      <th>3</th>\n",
              "      <td>3</td>\n",
              "      <td>ได้แนวคิดดีมากเลยค่ะ</td>\n",
              "      <td>5</td>\n",
              "      <td>ทำกำไรในตลาดทองอย่างยั่งยืนด้วยเทคนิค 3M</td>\n",
              "      <td>Good</td>\n",
              "      <td>2</td>\n",
              "    </tr>\n",
              "    <tr>\n",
              "      <th>4</th>\n",
              "      <td>4</td>\n",
              "      <td>โค้ชเอ๋ ถ่ายทอดเป็นระบบ ตามขั้นตอน ชัดเจน เข้า...</td>\n",
              "      <td>5</td>\n",
              "      <td>ทำกำไรในตลาดทองอย่างยั่งยืนด้วยเทคนิค 3M</td>\n",
              "      <td>Good</td>\n",
              "      <td>2</td>\n",
              "    </tr>\n",
              "  </tbody>\n",
              "</table>\n",
              "</div>"
            ],
            "text/plain": [
              "   Unnamed: 0                                               text  score  \\\n",
              "0           0  โค้ชเอ๋แน่นมากทั้ง MM Mind Set และ Method เทีย...      5   \n",
              "1           1    เยี่ยมเลยครับ คุณเอ๋ทำ tfex ด้วยนะครับ รอนะครับ      5   \n",
              "2           2              พี่เอ๋ ใช้เทคนิคง่ายไม่ซับซ้อน ดีครับ      5   \n",
              "3           3                               ได้แนวคิดดีมากเลยค่ะ      5   \n",
              "4           4  โค้ชเอ๋ ถ่ายทอดเป็นระบบ ตามขั้นตอน ชัดเจน เข้า...      5   \n",
              "\n",
              "                                course_name score_encoded  Label_Enc  \n",
              "0  ทำกำไรในตลาดทองอย่างยั่งยืนด้วยเทคนิค 3M          Good          2  \n",
              "1  ทำกำไรในตลาดทองอย่างยั่งยืนด้วยเทคนิค 3M          Good          2  \n",
              "2  ทำกำไรในตลาดทองอย่างยั่งยืนด้วยเทคนิค 3M          Good          2  \n",
              "3  ทำกำไรในตลาดทองอย่างยั่งยืนด้วยเทคนิค 3M          Good          2  \n",
              "4  ทำกำไรในตลาดทองอย่างยั่งยืนด้วยเทคนิค 3M          Good          2  "
            ]
          },
          "execution_count": 4,
          "metadata": {},
          "output_type": "execute_result"
        }
      ],
      "source": [
        "data.head(5)"
      ]
    },
    {
      "cell_type": "code",
      "execution_count": 5,
      "metadata": {
        "id": "L1J3tDxl3gBV"
      },
      "outputs": [],
      "source": [
        "X = data[\"text\"]\n",
        "y = data[\"Label_Enc\"]\n",
        "y = to_categorical(y, num_classes=3)"
      ]
    },
    {
      "cell_type": "code",
      "execution_count": 6,
      "metadata": {
        "id": "wJz34w3Y3gBV"
      },
      "outputs": [],
      "source": [
        "X = [pythainlp.word_tokenize(text, engine='newmm') for text in X]\n",
        "\n",
        "tokenizer = Tokenizer()\n",
        "tokenizer.fit_on_texts(X)\n",
        "X = tokenizer.texts_to_sequences(X)\n",
        "\n",
        "X = pad_sequences(X, maxlen=50, padding='post')"
      ]
    },
    {
      "cell_type": "code",
      "execution_count": 7,
      "metadata": {
        "id": "Lmh2b9sM3gBW"
      },
      "outputs": [],
      "source": [
        "X_train, X_test, y_train, y_test = train_test_split(X, y, test_size=0.2, random_state=42)"
      ]
    },
    {
      "cell_type": "code",
      "execution_count": 8,
      "metadata": {
        "id": "KFNwgiDC3gBW"
      },
      "outputs": [
        {
          "name": "stdout",
          "output_type": "stream",
          "text": [
            "Metal device set to: Apple M1 Pro\n",
            "\n",
            "systemMemory: 16.00 GB\n",
            "maxCacheSize: 5.33 GB\n",
            "\n",
            "WARNING:tensorflow:Layer lstm will not use cuDNN kernels since it doesn't meet the criteria. It will use a generic GPU kernel as fallback when running on GPU.\n"
          ]
        },
        {
          "name": "stderr",
          "output_type": "stream",
          "text": [
            "2023-03-10 09:06:48.594399: I tensorflow/core/common_runtime/pluggable_device/pluggable_device_factory.cc:305] Could not identify NUMA node of platform GPU ID 0, defaulting to 0. Your kernel may not have been built with NUMA support.\n",
            "2023-03-10 09:06:48.595188: I tensorflow/core/common_runtime/pluggable_device/pluggable_device_factory.cc:271] Created TensorFlow device (/job:localhost/replica:0/task:0/device:GPU:0 with 0 MB memory) -> physical PluggableDevice (device: 0, name: METAL, pci bus id: <undefined>)\n"
          ]
        }
      ],
      "source": [
        "lstm_model = Sequential()\n",
        "lstm_model.add(Embedding(input_dim=len(tokenizer.word_index)+1, output_dim=128, input_length=50))\n",
        "lstm_model.add(LSTM(128, dropout=0.2, recurrent_dropout=0.2))\n",
        "lstm_model.add(Dense(3, activation='softmax'))\n",
        "lstm_model.compile(loss='categorical_crossentropy', optimizer=Adam(learning_rate=0.0001), metrics=['accuracy'])"
      ]
    },
    {
      "cell_type": "code",
      "execution_count": 9,
      "metadata": {
        "id": "yiOAvvzw3gBW"
      },
      "outputs": [],
      "source": [
        "cnn_model = Sequential()\n",
        "cnn_model.add(Embedding(input_dim=len(tokenizer.word_index)+1, output_dim=128, input_length=50))\n",
        "cnn_model.add(Conv1D(64, 5, activation='relu'))\n",
        "cnn_model.add(MaxPooling1D(pool_size=4))\n",
        "cnn_model.add(Conv1D(128, 5, activation='relu'))\n",
        "cnn_model.add(MaxPooling1D(pool_size=4))\n",
        "cnn_model.add(GlobalMaxPooling1D())\n",
        "cnn_model.add(Dense(3, activation='softmax'))\n",
        "cnn_model.compile(loss='categorical_crossentropy', optimizer=Adam(learning_rate=0.0001), metrics=['accuracy'])\n"
      ]
    },
    {
      "cell_type": "code",
      "execution_count": 10,
      "metadata": {
        "id": "HlVNZJaJ-Ewm"
      },
      "outputs": [],
      "source": [
        "from sklearn.utils.class_weight import compute_class_weight\n",
        "\n",
        "# convert y_train to integer labels\n",
        "y_train_int = np.argmax(y_train, axis=-1)\n",
        "\n",
        "class_weights = compute_class_weight(\n",
        "                   class_weight = \"balanced\",\n",
        "                   classes = np.unique(y_train_int),\n",
        "                   y = y_train_int\n",
        "               )\n",
        "class_weights = dict(enumerate(class_weights))"
      ]
    },
    {
      "cell_type": "code",
      "execution_count": 11,
      "metadata": {
        "colab": {
          "base_uri": "https://localhost:8080/"
        },
        "id": "mPDqfgDT3gBW",
        "outputId": "2a61e159-af36-4631-eae8-ea9bc0c5c9ec"
      },
      "outputs": [
        {
          "name": "stderr",
          "output_type": "stream",
          "text": [
            "2023-03-10 09:06:49.053076: W tensorflow/core/platform/profile_utils/cpu_utils.cc:128] Failed to get CPU frequency: 0 Hz\n"
          ]
        },
        {
          "name": "stdout",
          "output_type": "stream",
          "text": [
            "Epoch 1/10\n"
          ]
        },
        {
          "name": "stderr",
          "output_type": "stream",
          "text": [
            "2023-03-10 09:06:50.244679: I tensorflow/core/grappler/optimizers/custom_graph_optimizer_registry.cc:112] Plugin optimizer for device_type GPU is enabled.\n"
          ]
        },
        {
          "ename": "",
          "evalue": "",
          "output_type": "error",
          "traceback": [
            "\u001b[1;31mThe Kernel crashed while executing code in the the current cell or a previous cell. Please review the code in the cell(s) to identify a possible cause of the failure. Click <a href='https://aka.ms/vscodeJupyterKernelCrash'>here</a> for more info. View Jupyter <a href='command:jupyter.viewOutput'>log</a> for further details."
          ]
        },
        {
          "ename": "",
          "evalue": "",
          "output_type": "error",
          "traceback": [
            "\u001b[1;31mCanceled future for execute_request message before replies were done"
          ]
        }
      ],
      "source": [
        "history = lstm_model.fit(X_train, y_train, batch_size=16, epochs=10, validation_split=0.2, class_weight=class_weights)\n",
        "lstm_preds = np.argmax(lstm_model.predict(X_test), axis=-1)\n",
        "print(\"LSTM Classification Report:\")\n",
        "print(classification_report(np.argmax(y_test, axis=-1), lstm_preds))"
      ]
    },
    {
      "cell_type": "code",
      "execution_count": null,
      "metadata": {},
      "outputs": [],
      "source": [
        "plt.plot(history.history['loss'], label='Training Loss')\n",
        "plt.plot(history.history['val_loss'], label='Validation Loss')\n",
        "plt.xlabel('Epoch')\n",
        "plt.ylabel('Loss')\n",
        "plt.title('Training and Validation Loss')\n",
        "plt.legend()\n",
        "plt.show()"
      ]
    },
    {
      "cell_type": "code",
      "execution_count": null,
      "metadata": {
        "colab": {
          "base_uri": "https://localhost:8080/"
        },
        "id": "E0C1Zizo3gBX",
        "outputId": "78a994e2-b0e5-411a-85ce-78b4cc0b52da"
      },
      "outputs": [],
      "source": [
        "history = cnn_model.fit(X_train, y_train, batch_size=16, epochs=10, validation_split=0.2)\n",
        "cnn_preds = np.argmax(cnn_model.predict(X_test), axis=-1)\n",
        "print(\"LSTM Classification Report:\")\n",
        "print(classification_report(np.argmax(y_test, axis=-1), cnn_preds))"
      ]
    },
    {
      "cell_type": "code",
      "execution_count": null,
      "metadata": {
        "id": "AC7HaoG33gBX"
      },
      "outputs": [],
      "source": [
        "plt.plot(history.history['loss'], label='Training Loss')\n",
        "plt.plot(history.history['val_loss'], label='Validation Loss')\n",
        "plt.xlabel('Epoch')\n",
        "plt.ylabel('Loss')\n",
        "plt.title('Training and Validation Loss')\n",
        "plt.legend()\n",
        "plt.show()"
      ]
    }
  ],
  "metadata": {
    "colab": {
      "provenance": []
    },
    "kernelspec": {
      "display_name": "mlp",
      "language": "python",
      "name": "python3"
    },
    "language_info": {
      "codemirror_mode": {
        "name": "ipython",
        "version": 3
      },
      "file_extension": ".py",
      "mimetype": "text/x-python",
      "name": "python",
      "nbconvert_exporter": "python",
      "pygments_lexer": "ipython3",
      "version": "3.9.10"
    },
    "orig_nbformat": 4,
    "vscode": {
      "interpreter": {
        "hash": "312e11345a26bb658cc76d44d3920b107a1290315a78b9f69927adb21ad3c257"
      }
    }
  },
  "nbformat": 4,
  "nbformat_minor": 0
}
