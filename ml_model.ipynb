{
 "cells": [
  {
   "cell_type": "code",
   "execution_count": 1,
   "metadata": {},
   "outputs": [],
   "source": [
    "import pandas as pd\n",
    "import numpy as np\n",
    "\n",
    "from pythainlp import word_tokenize\n",
    "import re\n",
    "\n",
    "import tensorflow as tf\n",
    "\n",
    "from sklearn import preprocessing\n",
    "from sklearn.model_selection import train_test_split\n",
    "\n",
    "import matplotlib.pyplot as plt\n",
    "from sklearn import metrics\n",
    "from sklearn.metrics import classification_report\n",
    "\n",
    "from sklearn.feature_extraction.text import TfidfVectorizer\n",
    "import keras\n",
    "from keras import *\n",
    "from keras.layers import *\n",
    "\n",
    "from sklearn.linear_model import LogisticRegression\n",
    "from sklearn.ensemble import RandomForestClassifier\n",
    "from sklearn import svm\n",
    "\n",
    "from imblearn.over_sampling import SMOTE\n",
    "\n",
    "from sklearn.utils.class_weight import compute_class_weight\n",
    "\n",
    "import warnings\n",
    "warnings.filterwarnings(\"ignore\")"
   ]
  },
  {
   "cell_type": "code",
   "execution_count": 2,
   "metadata": {},
   "outputs": [],
   "source": [
    "df = pd.read_excel('course_review_dataset.xlsx')"
   ]
  },
  {
   "cell_type": "code",
   "execution_count": 3,
   "metadata": {},
   "outputs": [],
   "source": [
    "df = df.dropna()"
   ]
  },
  {
   "cell_type": "code",
   "execution_count": 4,
   "metadata": {},
   "outputs": [
    {
     "data": {
      "text/plain": [
       "text           0\n",
       "score          0\n",
       "course_name    0\n",
       "dtype: int64"
      ]
     },
     "execution_count": 4,
     "metadata": {},
     "output_type": "execute_result"
    }
   ],
   "source": [
    "df.isna().sum()"
   ]
  },
  {
   "cell_type": "code",
   "execution_count": 5,
   "metadata": {},
   "outputs": [
    {
     "data": {
      "text/html": [
       "<div>\n",
       "<style scoped>\n",
       "    .dataframe tbody tr th:only-of-type {\n",
       "        vertical-align: middle;\n",
       "    }\n",
       "\n",
       "    .dataframe tbody tr th {\n",
       "        vertical-align: top;\n",
       "    }\n",
       "\n",
       "    .dataframe thead th {\n",
       "        text-align: right;\n",
       "    }\n",
       "</style>\n",
       "<table border=\"1\" class=\"dataframe\">\n",
       "  <thead>\n",
       "    <tr style=\"text-align: right;\">\n",
       "      <th></th>\n",
       "      <th>text</th>\n",
       "      <th>score</th>\n",
       "      <th>course_name</th>\n",
       "    </tr>\n",
       "  </thead>\n",
       "  <tbody>\n",
       "    <tr>\n",
       "      <th>0</th>\n",
       "      <td>โค้ชเอ๋แน่นมากทั้ง MM Mind Set และ Method เทีย...</td>\n",
       "      <td>5</td>\n",
       "      <td>ทำกำไรในตลาดทองอย่างยั่งยืนด้วยเทคนิค 3M</td>\n",
       "    </tr>\n",
       "    <tr>\n",
       "      <th>1</th>\n",
       "      <td>เยี่ยมเลยครับ คุณเอ๋ทำ tfex ด้วยนะครับ รอนะครับ</td>\n",
       "      <td>5</td>\n",
       "      <td>ทำกำไรในตลาดทองอย่างยั่งยืนด้วยเทคนิค 3M</td>\n",
       "    </tr>\n",
       "    <tr>\n",
       "      <th>2</th>\n",
       "      <td>พี่เอ๋ ใช้เทคนิคง่ายไม่ซับซ้อน ดีครับ</td>\n",
       "      <td>5</td>\n",
       "      <td>ทำกำไรในตลาดทองอย่างยั่งยืนด้วยเทคนิค 3M</td>\n",
       "    </tr>\n",
       "    <tr>\n",
       "      <th>3</th>\n",
       "      <td>ได้แนวคิดดีมากเลยค่ะ</td>\n",
       "      <td>5</td>\n",
       "      <td>ทำกำไรในตลาดทองอย่างยั่งยืนด้วยเทคนิค 3M</td>\n",
       "    </tr>\n",
       "    <tr>\n",
       "      <th>4</th>\n",
       "      <td>โค้ชเอ๋ ถ่ายทอดเป็นระบบ ตามขั้นตอน ชัดเจน เข้า...</td>\n",
       "      <td>5</td>\n",
       "      <td>ทำกำไรในตลาดทองอย่างยั่งยืนด้วยเทคนิค 3M</td>\n",
       "    </tr>\n",
       "    <tr>\n",
       "      <th>...</th>\n",
       "      <td>...</td>\n",
       "      <td>...</td>\n",
       "      <td>...</td>\n",
       "    </tr>\n",
       "    <tr>\n",
       "      <th>994</th>\n",
       "      <td>เป็นคอร์สที่ไม่เหมาะสำหรับผู้ไม่มีพื้นฐาน เนื่...</td>\n",
       "      <td>2</td>\n",
       "      <td>Basic Network และ Lab Config Cisco</td>\n",
       "    </tr>\n",
       "    <tr>\n",
       "      <th>995</th>\n",
       "      <td>เป็นหลักสูตรที่ดีครับ สงสงตรงไหนสอบถามอาจารย์ไ...</td>\n",
       "      <td>5</td>\n",
       "      <td>Basic Network และ Lab Config Cisco</td>\n",
       "    </tr>\n",
       "    <tr>\n",
       "      <th>996</th>\n",
       "      <td>เหมาะกับคนที่พื้นฐาน</td>\n",
       "      <td>2</td>\n",
       "      <td>Basic Network และ Lab Config Cisco</td>\n",
       "    </tr>\n",
       "    <tr>\n",
       "      <th>997</th>\n",
       "      <td>ลำบากมือใหม่อย่างผมมากครับ</td>\n",
       "      <td>2</td>\n",
       "      <td>Basic Network และ Lab Config Cisco</td>\n",
       "    </tr>\n",
       "    <tr>\n",
       "      <th>998</th>\n",
       "      <td>เสียดายเงิน มือใหม่ที่ตั้งใจจะศึกษาจะลำบากมากครับ</td>\n",
       "      <td>2</td>\n",
       "      <td>Basic Network และ Lab Config Cisco</td>\n",
       "    </tr>\n",
       "  </tbody>\n",
       "</table>\n",
       "<p>999 rows × 3 columns</p>\n",
       "</div>"
      ],
      "text/plain": [
       "                                                  text  score  \\\n",
       "0    โค้ชเอ๋แน่นมากทั้ง MM Mind Set และ Method เทีย...      5   \n",
       "1      เยี่ยมเลยครับ คุณเอ๋ทำ tfex ด้วยนะครับ รอนะครับ      5   \n",
       "2                พี่เอ๋ ใช้เทคนิคง่ายไม่ซับซ้อน ดีครับ      5   \n",
       "3                                 ได้แนวคิดดีมากเลยค่ะ      5   \n",
       "4    โค้ชเอ๋ ถ่ายทอดเป็นระบบ ตามขั้นตอน ชัดเจน เข้า...      5   \n",
       "..                                                 ...    ...   \n",
       "994  เป็นคอร์สที่ไม่เหมาะสำหรับผู้ไม่มีพื้นฐาน เนื่...      2   \n",
       "995  เป็นหลักสูตรที่ดีครับ สงสงตรงไหนสอบถามอาจารย์ไ...      5   \n",
       "996                               เหมาะกับคนที่พื้นฐาน      2   \n",
       "997                         ลำบากมือใหม่อย่างผมมากครับ      2   \n",
       "998  เสียดายเงิน มือใหม่ที่ตั้งใจจะศึกษาจะลำบากมากครับ      2   \n",
       "\n",
       "                                  course_name  \n",
       "0    ทำกำไรในตลาดทองอย่างยั่งยืนด้วยเทคนิค 3M  \n",
       "1    ทำกำไรในตลาดทองอย่างยั่งยืนด้วยเทคนิค 3M  \n",
       "2    ทำกำไรในตลาดทองอย่างยั่งยืนด้วยเทคนิค 3M  \n",
       "3    ทำกำไรในตลาดทองอย่างยั่งยืนด้วยเทคนิค 3M  \n",
       "4    ทำกำไรในตลาดทองอย่างยั่งยืนด้วยเทคนิค 3M  \n",
       "..                                        ...  \n",
       "994        Basic Network และ Lab Config Cisco  \n",
       "995        Basic Network และ Lab Config Cisco  \n",
       "996        Basic Network และ Lab Config Cisco  \n",
       "997        Basic Network และ Lab Config Cisco  \n",
       "998        Basic Network และ Lab Config Cisco  \n",
       "\n",
       "[999 rows x 3 columns]"
      ]
     },
     "execution_count": 5,
     "metadata": {},
     "output_type": "execute_result"
    }
   ],
   "source": [
    "df"
   ]
  },
  {
   "cell_type": "code",
   "execution_count": 6,
   "metadata": {},
   "outputs": [],
   "source": [
    "df['score'] = df['score'].astype(str)\n",
    "\n",
    "df['score_encoded'] = df['score'].str.replace('1','Bad')\n",
    "df['score_encoded'] = df['score_encoded'].str.replace('2','Bad')\n",
    "df['score_encoded'] = df['score_encoded'].str.replace('3','Natural')\n",
    "df['score_encoded'] = df['score_encoded'].str.replace('4','Good')\n",
    "df['score_encoded'] = df['score_encoded'].str.replace('5','Good')\n",
    "\n",
    "conditions = [\n",
    "    (df['score_encoded'] == 'Bad'),\n",
    "    (df['score_encoded'] == 'Natural'),\n",
    "    (df['score_encoded'] == 'Good'),\n",
    "    ]\n",
    "\n",
    "values = ['0', '1', '2']\n",
    "\n",
    "df['Label_Enc'] = np.select(conditions, values)"
   ]
  },
  {
   "cell_type": "code",
   "execution_count": 7,
   "metadata": {},
   "outputs": [],
   "source": [
    "def replace_url(text):\n",
    "    URL_PATTERN = r\"\"\"(?i)\\b((?:https?:(?:/{1,3}|[a-z0-9%])|[a-z0-9.\\-]+[.](?:com|net|org|edu|gov|mil|aero|asia|biz|cat|coop|info|int|jobs|mobi|museum|name|post|pro|tel|travel|xxx|ac|ad|ae|af|ag|ai|al|am|an|ao|aq|ar|as|at|au|aw|ax|az|ba|bb|bd|be|bf|bg|bh|bi|bj|bm|bn|bo|br|bs|bt|bv|bw|by|bz|ca|cc|cd|cf|cg|ch|ci|ck|cl|cm|cn|co|cr|cs|cu|cv|cx|cy|cz|dd|de|dj|dk|dm|do|dz|ec|ee|eg|eh|er|es|et|eu|fi|fj|fk|fm|fo|fr|ga|gb|gd|ge|gf|gg|gh|gi|gl|gm|gn|gp|gq|gr|gs|gt|gu|gw|gy|hk|hm|hn|hr|ht|hu|id|ie|il|im|in|io|iq|ir|is|it|je|jm|jo|jp|ke|kg|kh|ki|km|kn|kp|kr|kw|ky|kz|la|lb|lc|li|lk|lr|ls|lt|lu|lv|ly|ma|mc|md|me|mg|mh|mk|ml|mm|mn|mo|mp|mq|mr|ms|mt|mu|mv|mw|mx|my|mz|na|nc|ne|nf|ng|ni|nl|no|np|nr|nu|nz|om|pa|pe|pf|pg|ph|pk|pl|pm|pn|pr|ps|pt|pw|py|qa|re|ro|rs|ru|rw|sa|sb|sc|sd|se|sg|sh|si|sj|Ja|sk|sl|sm|sn|so|sr|ss|st|su|sv|sx|sy|sz|tc|td|tf|tg|th|tj|tk|tl|tm|tn|to|tp|tr|tt|tv|tw|tz|ua|ug|uk|us|uy|uz|va|vc|ve|vg|vi|vn|vu|wf|ws|ye|yt|yu|za|zm|zw)/)(?:[^\\s()<>{}\n",
    "]+|[^\\s()]*?\\)|)+(?:[^\\s()]*?\\)||[^\\s`!()\n",
    "{};:'\".,<>?«»“”‘’])|(?:(?<!@)[a-z0-9]+(?:[.\\-][a-z0-9]+)*[.](?:com|net|org|edu|gov|mil|aero|asia|biz|cat|coop|info|int|jobs|mobi|museum|name|post|pro|tel|travel|xxx|ac|ad|ae|af|ag|ai|al|am|an|ao|aq|ar|as|at|au|aw|ax|az|ba|bb|bd|be|bf|bg|bh|bi|bj|bm|bn|bo|br|bs|bt|bv|bw|by|bz|ca|cc|cd|cf|cg|ch|ci|ck|cl|cm|cn|co|cr|cs|cu|cv|cx|cy|cz|dd|de|dj|dk|dm|do|dz|ec|ee|eg|eh|er|es|et|eu|fi|fj|fk|fm|fo|fr|ga|gb|gd|ge|gf|gg|gh|gi|gl|gm|gn|gp|gq|gr|gs|gt|gu|gw|gy|hk|hm|hn|hr|ht|hu|id|ie|il|im|in|io|iq|ir|is|it|je|jm|jo|jp|ke|kg|kh|ki|km|kn|kp|kr|kw|ky|kz|la|lb|lc|li|lk|lr|ls|lt|lu|lv|ly|ma|mc|md|me|mg|mh|mk|ml|mm|mn|mo|mp|mq|mr|ms|mt|mu|mv|mw|mx|my|mz|na|nc|ne|nf|ng|ni|nl|no|np|nr|nu|nz|om|pa|pe|pf|pg|ph|pk|pl|pm|pn|pr|ps|pt|pw|py|qa|re|ro|rs|ru|rw|sa|sb|sc|sd|se|sg|sh|si|sj|Ja|sk|sl|sm|sn|so|sr|ss|st|su|sv|sx|sy|sz|tc|td|tf|tg|th|tj|tk|tl|tm|tn|to|tp|tr|tt|tv|tw|tz|ua|ug|uk|us|uy|uz|va|vc|ve|vg|vi|vn|vu|wf|ws|ye|yt|yu|za|zm|zw)\\b/?(?!@)))\"\"\"\n",
    "    return re.sub(URL_PATTERN, 'xxurl', text)\n",
    "\n",
    "def replace_rep(text):\n",
    "    def _replace_rep(m):\n",
    "        c,cc = m.groups()\n",
    "        return f'{c}xxrep'\n",
    "    re_rep = re.compile(r'(\\S)(\\1{2,})')\n",
    "    return re_rep.sub(_replace_rep, text)\n",
    "\n",
    "def process_text(text):\n",
    "    res = text.lower().strip()\n",
    "    res = replace_url(res)\n",
    "    res = replace_rep(res)\n",
    "\n",
    "    res = [word for word in word_tokenize(res) if word and not re.search(pattern=r\"\\s+\", string=word)]\n",
    "    return res"
   ]
  },
  {
   "cell_type": "code",
   "execution_count": 8,
   "metadata": {},
   "outputs": [
    {
     "data": {
      "text/html": [
       "<div>\n",
       "<style scoped>\n",
       "    .dataframe tbody tr th:only-of-type {\n",
       "        vertical-align: middle;\n",
       "    }\n",
       "\n",
       "    .dataframe tbody tr th {\n",
       "        vertical-align: top;\n",
       "    }\n",
       "\n",
       "    .dataframe thead th {\n",
       "        text-align: right;\n",
       "    }\n",
       "</style>\n",
       "<table border=\"1\" class=\"dataframe\">\n",
       "  <thead>\n",
       "    <tr style=\"text-align: right;\">\n",
       "      <th></th>\n",
       "      <th>text</th>\n",
       "      <th>score</th>\n",
       "      <th>course_name</th>\n",
       "      <th>score_encoded</th>\n",
       "      <th>Label_Enc</th>\n",
       "    </tr>\n",
       "  </thead>\n",
       "  <tbody>\n",
       "    <tr>\n",
       "      <th>0</th>\n",
       "      <td>โค้ชเอ๋แน่นมากทั้ง MM Mind Set และ Method เทีย...</td>\n",
       "      <td>5</td>\n",
       "      <td>ทำกำไรในตลาดทองอย่างยั่งยืนด้วยเทคนิค 3M</td>\n",
       "      <td>Good</td>\n",
       "      <td>2</td>\n",
       "    </tr>\n",
       "  </tbody>\n",
       "</table>\n",
       "</div>"
      ],
      "text/plain": [
       "                                                text score  \\\n",
       "0  โค้ชเอ๋แน่นมากทั้ง MM Mind Set และ Method เทีย...     5   \n",
       "\n",
       "                                course_name score_encoded Label_Enc  \n",
       "0  ทำกำไรในตลาดทองอย่างยั่งยืนด้วยเทคนิค 3M          Good         2  "
      ]
     },
     "execution_count": 8,
     "metadata": {},
     "output_type": "execute_result"
    }
   ],
   "source": [
    "df.head(1)"
   ]
  },
  {
   "cell_type": "code",
   "execution_count": 9,
   "metadata": {},
   "outputs": [],
   "source": [
    "def select_label(label):\n",
    "    df['text'] = df['text'].map(lambda x: '|'.join(process_text(x)))\n",
    "    ws_tfidf = TfidfVectorizer(tokenizer=word_tokenize, ngram_range=(1, 2), sublinear_tf=True)\n",
    "    ws_vec = ws_tfidf.fit_transform(df['text']).toarray()\n",
    "    X = ws_vec\n",
    "    y = df[str(label)]\n",
    "    X_train, X_test, y_train, y_test = train_test_split(X, y, test_size=0.15)\n",
    "\n",
    "    model = LogisticRegression(class_weight='balanced')\n",
    "    model.fit(X_train, y_train)\n",
    "    model_pred = model.predict(X_test)\n",
    "    print(\"Logistic Regression\")\n",
    "    print(f\"{classification_report(y_test, model_pred)}\\n\")\n",
    "\n",
    "    clf = RandomForestClassifier(class_weight='balanced')\n",
    "    clf.fit(X_train, y_train)\n",
    "    clf_model_pred = clf.predict(X_test)\n",
    "    print(\"Random Forest Classifier\")\n",
    "    print(f\"{classification_report(y_test, clf_model_pred)}\\n\")\n",
    "\n",
    "\n",
    "    SVM_CLF = svm.SVC(class_weight='balanced')\n",
    "    SVM_CLF.fit(X_train, y_train)\n",
    "    svm_pred = SVM_CLF.predict(X_test)\n",
    "    print(\"Support Vector Machine\")\n",
    "    print(f\"{classification_report(y_test, svm_pred)}\\n\")\n"
   ]
  },
  {
   "cell_type": "code",
   "execution_count": 10,
   "metadata": {},
   "outputs": [
    {
     "data": {
      "text/plain": [
       "Index(['text', 'score', 'course_name', 'score_encoded', 'Label_Enc'], dtype='object')"
      ]
     },
     "execution_count": 10,
     "metadata": {},
     "output_type": "execute_result"
    }
   ],
   "source": [
    "df.columns"
   ]
  },
  {
   "cell_type": "code",
   "execution_count": 11,
   "metadata": {},
   "outputs": [
    {
     "name": "stdout",
     "output_type": "stream",
     "text": [
      "Logistic Regression\n",
      "              precision    recall  f1-score   support\n",
      "\n",
      "           0       0.77      0.71      0.74        14\n",
      "           1       0.43      0.27      0.33        11\n",
      "           2       0.94      0.98      0.96       125\n",
      "\n",
      "    accuracy                           0.90       150\n",
      "   macro avg       0.71      0.65      0.68       150\n",
      "weighted avg       0.89      0.90      0.89       150\n",
      "\n",
      "\n",
      "Random Forest Classifier\n",
      "              precision    recall  f1-score   support\n",
      "\n",
      "           0       0.62      0.36      0.45        14\n",
      "           1       0.33      0.09      0.14        11\n",
      "           2       0.89      0.99      0.94       125\n",
      "\n",
      "    accuracy                           0.87       150\n",
      "   macro avg       0.62      0.48      0.51       150\n",
      "weighted avg       0.83      0.87      0.84       150\n",
      "\n",
      "\n",
      "Support Vector Machine\n",
      "              precision    recall  f1-score   support\n",
      "\n",
      "           0       0.70      0.50      0.58        14\n",
      "           1       0.67      0.18      0.29        11\n",
      "           2       0.91      1.00      0.95       125\n",
      "\n",
      "    accuracy                           0.89       150\n",
      "   macro avg       0.76      0.56      0.61       150\n",
      "weighted avg       0.87      0.89      0.87       150\n",
      "\n",
      "\n"
     ]
    }
   ],
   "source": [
    "select_label('Label_Enc')"
   ]
  },
  {
   "cell_type": "code",
   "execution_count": null,
   "metadata": {},
   "outputs": [],
   "source": []
  }
 ],
 "metadata": {
  "kernelspec": {
   "display_name": "mlp",
   "language": "python",
   "name": "python3"
  },
  "language_info": {
   "codemirror_mode": {
    "name": "ipython",
    "version": 3
   },
   "file_extension": ".py",
   "mimetype": "text/x-python",
   "name": "python",
   "nbconvert_exporter": "python",
   "pygments_lexer": "ipython3",
   "version": "3.9.10"
  },
  "orig_nbformat": 4,
  "vscode": {
   "interpreter": {
    "hash": "312e11345a26bb658cc76d44d3920b107a1290315a78b9f69927adb21ad3c257"
   }
  }
 },
 "nbformat": 4,
 "nbformat_minor": 2
}
